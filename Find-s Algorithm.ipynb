{
 "cells": [
  {
   "cell_type": "markdown",
   "id": "94e3ccf6",
   "metadata": {},
   "source": [
    "# Method 2 (using pandas)"
   ]
  },
  {
   "cell_type": "code",
   "execution_count": 1,
   "id": "5d0c9cee",
   "metadata": {},
   "outputs": [],
   "source": [
    "import pandas as pd\n",
    "import numpy as np"
   ]
  },
  {
   "cell_type": "code",
   "execution_count": 2,
   "id": "6bdd760d",
   "metadata": {},
   "outputs": [
    {
     "name": "stdout",
     "output_type": "stream",
     "text": [
      "     Sky AirTemp Humidity    Wind Water Forecast EnjoySport\n",
      "0  Sunny    Warm   Normal  Strong  Warm     Same        yes\n",
      "1  Sunny    Warm     High  Strong  Warm     Same        yes\n",
      "2  Rainy    Cold     High  Strong  Warm   Change         no\n",
      "3  Sunny    Warm     High  Strong  Cool   Change        yes \n",
      "\n",
      "\n",
      "The attributes are: [['Sunny' 'Warm' 'Normal' 'Strong' 'Warm' 'Same']\n",
      " ['Sunny' 'Warm' 'High' 'Strong' 'Warm' 'Same']\n",
      " ['Rainy' 'Cold' 'High' 'Strong' 'Warm' 'Change']\n",
      " ['Sunny' 'Warm' 'High' 'Strong' 'Cool' 'Change']]\n",
      "\n",
      "The target is: ['yes' 'yes' 'no' 'yes']\n",
      "\n",
      "The final hypothesis is: ['Sunny' 'Warm' '?' 'Strong' '?' '?']\n"
     ]
    }
   ],
   "source": [
    "# to read the data in the csv file\n",
    "data = pd.read_csv('enjoysport.csv')\n",
    "print(data, \"\\n\")\n",
    "\n",
    "# making an array of all the attributes\n",
    "d = np.array(data)[:,:-1]\n",
    "print(\"\\nThe attributes are:\", d)\n",
    "\n",
    "# segragating the target that has positive and negative instances\n",
    "target = np.array(data)[:,-1]\n",
    "print(\"\\nThe target is:\", target)\n",
    "\n",
    "# training function to implement find-s algorithm\n",
    "def train(c,t):\n",
    "    for i, val in enumerate(t):\n",
    "        if val == \"yes\":\n",
    "            specific_hypothesis = c[i].copy()\n",
    "            break\n",
    "    for i, val in enumerate(c):\n",
    "        if t[i] == 'yes':\n",
    "            for x in range(len(specific_hypothesis)):\n",
    "                if val[x] != specific_hypothesis[x]:\n",
    "                    specific_hypothesis[x] = '?'\n",
    "                else:\n",
    "                    pass\n",
    "    return specific_hypothesis\n",
    "\n",
    "# obtaining the final hypothesis\n",
    "print(\"\\nThe final hypothesis is:\", train(d, target))"
   ]
  },
  {
   "cell_type": "code",
   "execution_count": null,
   "id": "f722e5e0",
   "metadata": {},
   "outputs": [],
   "source": []
  }
 ],
 "metadata": {
  "kernelspec": {
   "display_name": "Python 3 (ipykernel)",
   "language": "python",
   "name": "python3"
  },
  "language_info": {
   "codemirror_mode": {
    "name": "ipython",
    "version": 3
   },
   "file_extension": ".py",
   "mimetype": "text/x-python",
   "name": "python",
   "nbconvert_exporter": "python",
   "pygments_lexer": "ipython3",
   "version": "3.9.13"
  }
 },
 "nbformat": 4,
 "nbformat_minor": 5
}
